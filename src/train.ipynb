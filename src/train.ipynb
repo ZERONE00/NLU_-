{
 "metadata": {
  "language_info": {
   "codemirror_mode": {
    "name": "ipython",
    "version": 3
   },
   "file_extension": ".py",
   "mimetype": "text/x-python",
   "name": "python",
   "nbconvert_exporter": "python",
   "pygments_lexer": "ipython3",
   "version": 3
  },
  "orig_nbformat": 2,
  "kernelspec": {
   "name": "python_defaultSpec_1596937067797",
   "display_name": "Python 3.6.8 64-bit"
  }
 },
 "nbformat": 4,
 "nbformat_minor": 2,
 "cells": [
  {
   "cell_type": "code",
   "execution_count": 57,
   "metadata": {},
   "outputs": [],
   "source": [
    "from gensim.models import KeyedVectors\n",
    "from utils import *\n",
    "from dataset import *\n",
    "import os\n",
    "import torch\n",
    "import torch.utils.data\n",
    "import numpy as np\n",
    "from model import *\n",
    "from config import *"
   ]
  },
  {
   "cell_type": "code",
   "execution_count": 56,
   "metadata": {},
   "outputs": [
    {
     "output_type": "execute_result",
     "data": {
      "text/plain": "<module 'model' from '/Users/wangxin/Courses/Graduate/2020春季学期/NLP/lab/src/model.py'>"
     },
     "metadata": {},
     "execution_count": 56
    }
   ],
   "source": [
    "import model \n",
    "import importlib\n",
    "\n",
    "importlib.reload(model)"
   ]
  },
  {
   "cell_type": "code",
   "execution_count": 47,
   "metadata": {
    "tags": []
   },
   "outputs": [
    {
     "output_type": "stream",
     "name": "stderr",
     "text": "100%|██████████| 44974/44974 [00:16<00:00, 2744.95it/s]\n100%|██████████| 5621/5621 [00:02<00:00, 2662.26it/s]\n100%|██████████| 5624/5624 [00:02<00:00, 2738.88it/s]\n100%|██████████| 44974/44974 [00:18<00:00, 2399.74it/s]\n100%|██████████| 5621/5621 [00:02<00:00, 2133.58it/s]\n100%|██████████| 5621/5621 [00:02<00:00, 2496.26it/s]\n"
    }
   ],
   "source": [
    "tokens = get_tokens(dir='../data/csv/without_name/')\n",
    "\n",
    "token2id, id2token = get_token_id(tokens)\n",
    "\n",
    "dfs = read_data(dir='../data/csv/without_name/')\n",
    "x_train, y_train = get_input(dfs[0], token2id)\n",
    "x_test, y_test = get_input(dfs[1], token2id)\n",
    "x_valid, y_valid = get_input(dfs[1], token2id)\n",
    "x_train, x_test, x_valid = padding(x_train), padding(x_test), padding(x_valid)"
   ]
  },
  {
   "cell_type": "code",
   "execution_count": 58,
   "metadata": {},
   "outputs": [],
   "source": [
    "config = Config()\n",
    "\n",
    "training_set = dataset(x_train, y_train)\n",
    "train_loader = torch.utils.data.DataLoader(training_set, batch_size=config.batch_size, shuffle=True, num_workers=4)\n",
    "device = config.device"
   ]
  },
  {
   "cell_type": "code",
   "execution_count": 15,
   "metadata": {},
   "outputs": [],
   "source": [
    "wv = KeyedVectors.load_word2vec_format('../data/sgns.wiki.bigram-char', binary=False)"
   ]
  },
  {
   "cell_type": "code",
   "execution_count": 19,
   "metadata": {},
   "outputs": [],
   "source": [
    "embedding_weights = torch.zeros((len(token2id)+1, config.embed))\n",
    "for token in token2id:\n",
    "    index = token2id[token]\n",
    "    embedding_weights[index, :] = torch.from_numpy(wv[token]) if token in wv else torch.rand(config.embed)\n",
    "embedding_weights = embedding_weights.to(device)"
   ]
  },
  {
   "cell_type": "code",
   "execution_count": 59,
   "metadata": {},
   "outputs": [],
   "source": [
    "model = TextCNN(embedding_weights, config)"
   ]
  },
  {
   "cell_type": "code",
   "execution_count": 61,
   "metadata": {
    "tags": []
   },
   "outputs": [
    {
     "output_type": "stream",
     "name": "stdout",
     "text": "torch.Size([128, 3])\ntorch.Size([128, 500])\n"
    }
   ],
   "source": [
    "for epoch in config.num_epochs:\n",
    "    for x, y in train_loader:\n",
    "        y_pre = model(x)\n",
    "        print(y_pre.shape)\n",
    "        print(x.shape)\n",
    "        break"
   ]
  },
  {
   "cell_type": "code",
   "execution_count": 43,
   "metadata": {},
   "outputs": [
    {
     "output_type": "execute_result",
     "data": {
      "text/plain": "torch.Size([44974, 500])"
     },
     "metadata": {},
     "execution_count": 43
    }
   ],
   "source": [
    "torch.tensor(x_train).shape"
   ]
  },
  {
   "cell_type": "code",
   "execution_count": null,
   "metadata": {},
   "outputs": [],
   "source": []
  }
 ]
}