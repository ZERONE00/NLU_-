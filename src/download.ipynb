{
 "metadata": {
  "language_info": {
   "codemirror_mode": {
    "name": "ipython",
    "version": 3
   },
   "file_extension": ".py",
   "mimetype": "text/x-python",
   "name": "python",
   "nbconvert_exporter": "python",
   "pygments_lexer": "ipython3",
   "version": 3
  },
  "orig_nbformat": 2,
  "kernelspec": {
   "name": "python_defaultSpec_1595842835533",
   "display_name": "Python 3.6.8 64-bit"
  }
 },
 "nbformat": 4,
 "nbformat_minor": 2,
 "cells": [
  {
   "cell_type": "code",
   "execution_count": 22,
   "metadata": {
    "tags": []
   },
   "outputs": [],
   "source": [
    "def get_url(urlid):\n",
    "    base_url = \"http://e.xstt5.com/e/DownSys/doaction.php?enews=DownSoft&classid=4&id={}&pathid=0&pass=ef534c12904aba4acd8f618960738593&p=:::\"\n",
    "    return base_url.format(urlid)"
   ]
  },
  {
   "cell_type": "code",
   "execution_count": 35,
   "metadata": {
    "tags": []
   },
   "outputs": [
    {
     "output_type": "stream",
     "name": "stdout",
     "text": "get http://e.xstt5.com/e/DownSys/doaction.php?enews=DownSoft&classid=4&id=17813&pathid=0&pass=ef534c12904aba4acd8f618960738593&p=:::...\nget http://e.xstt5.com/e/DownSys/doaction.php?enews=DownSoft&classid=4&id=4104&pathid=0&pass=ef534c12904aba4acd8f618960738593&p=:::...\nget http://e.xstt5.com/e/DownSys/doaction.php?enews=DownSoft&classid=4&id=4117&pathid=0&pass=ef534c12904aba4acd8f618960738593&p=:::...\nget http://e.xstt5.com/e/DownSys/doaction.php?enews=DownSoft&classid=4&id=4105&pathid=0&pass=ef534c12904aba4acd8f618960738593&p=:::...\nget http://e.xstt5.com/e/DownSys/doaction.php?enews=DownSoft&classid=4&id=4106&pathid=0&pass=ef534c12904aba4acd8f618960738593&p=:::...\nget http://e.xstt5.com/e/DownSys/doaction.php?enews=DownSoft&classid=4&id=4122&pathid=0&pass=ef534c12904aba4acd8f618960738593&p=:::...\nget http://e.xstt5.com/e/DownSys/doaction.php?enews=DownSoft&classid=4&id=4100&pathid=0&pass=ef534c12904aba4acd8f618960738593&p=:::...\nget http://e.xstt5.com/e/DownSys/doaction.php?enews=DownSoft&classid=4&id=4129&pathid=0&pass=ef534c12904aba4acd8f618960738593&p=:::...\nget http://e.xstt5.com/e/DownSys/doaction.php?enews=DownSoft&classid=4&id=4124&pathid=0&pass=ef534c12904aba4acd8f618960738593&p=:::...\nget http://e.xstt5.com/e/DownSys/doaction.php?enews=DownSoft&classid=4&id=4118&pathid=0&pass=ef534c12904aba4acd8f618960738593&p=:::...\nget http://e.xstt5.com/e/DownSys/doaction.php?enews=DownSoft&classid=4&id=4107&pathid=0&pass=ef534c12904aba4acd8f618960738593&p=:::...\nget http://e.xstt5.com/e/DownSys/doaction.php?enews=DownSoft&classid=4&id=4101&pathid=0&pass=ef534c12904aba4acd8f618960738593&p=:::...\nget http://e.xstt5.com/e/DownSys/doaction.php?enews=DownSoft&classid=4&id=4110&pathid=0&pass=ef534c12904aba4acd8f618960738593&p=:::...\nget http://e.xstt5.com/e/DownSys/doaction.php?enews=DownSoft&classid=4&id=4099&pathid=0&pass=ef534c12904aba4acd8f618960738593&p=:::...\nget http://e.xstt5.com/e/DownSys/doaction.php?enews=DownSoft&classid=4&id=4119&pathid=0&pass=ef534c12904aba4acd8f618960738593&p=:::...\nget http://e.xstt5.com/e/DownSys/doaction.php?enews=DownSoft&classid=4&id=4102&pathid=0&pass=ef534c12904aba4acd8f618960738593&p=:::...\nget http://e.xstt5.com/e/DownSys/doaction.php?enews=DownSoft&classid=4&id=4108&pathid=0&pass=ef534c12904aba4acd8f618960738593&p=:::...\nget http://e.xstt5.com/e/DownSys/doaction.php?enews=DownSoft&classid=4&id=4111&pathid=0&pass=ef534c12904aba4acd8f618960738593&p=:::...\nget http://e.xstt5.com/e/DownSys/doaction.php?enews=DownSoft&classid=4&id=4131&pathid=0&pass=ef534c12904aba4acd8f618960738593&p=:::...\nget http://e.xstt5.com/e/DownSys/doaction.php?enews=DownSoft&classid=4&id=4120&pathid=0&pass=ef534c12904aba4acd8f618960738593&p=:::...\nget http://e.xstt5.com/e/DownSys/doaction.php?enews=DownSoft&classid=4&id=4123&pathid=0&pass=ef534c12904aba4acd8f618960738593&p=:::...\nget http://e.xstt5.com/e/DownSys/doaction.php?enews=DownSoft&classid=4&id=4125&pathid=0&pass=ef534c12904aba4acd8f618960738593&p=:::...\nget http://e.xstt5.com/e/DownSys/doaction.php?enews=DownSoft&classid=4&id=4103&pathid=0&pass=ef534c12904aba4acd8f618960738593&p=:::...\nget http://e.xstt5.com/e/DownSys/doaction.php?enews=DownSoft&classid=4&id=4127&pathid=0&pass=ef534c12904aba4acd8f618960738593&p=:::...\nget http://e.xstt5.com/e/DownSys/doaction.php?enews=DownSoft&classid=4&id=4418&pathid=0&pass=ef534c12904aba4acd8f618960738593&p=:::...\nget http://e.xstt5.com/e/DownSys/doaction.php?enews=DownSoft&classid=4&id=4121&pathid=0&pass=ef534c12904aba4acd8f618960738593&p=:::...\nget http://e.xstt5.com/e/DownSys/doaction.php?enews=DownSoft&classid=4&id=4116&pathid=0&pass=ef534c12904aba4acd8f618960738593&p=:::...\nget http://e.xstt5.com/e/DownSys/doaction.php?enews=DownSoft&classid=4&id=4128&pathid=0&pass=ef534c12904aba4acd8f618960738593&p=:::...\nget http://e.xstt5.com/e/DownSys/doaction.php?enews=DownSoft&classid=4&id=4109&pathid=0&pass=ef534c12904aba4acd8f618960738593&p=:::...\nget http://e.xstt5.com/e/DownSys/doaction.php?enews=DownSoft&classid=4&id=4132&pathid=0&pass=ef534c12904aba4acd8f618960738593&p=:::...\n"
    }
   ],
   "source": [
    "from bs4 import BeautifulSoup\n",
    "import requests\n",
    "\n",
    "html = open('index.html.2', 'r').read()\n",
    "soup = BeautifulSoup(html, 'html.parser')\n",
    "hrefs = soup.findAll(\"div\", {\"class\": \"bintro\"})\n",
    "for href in hrefs:\n",
    "    title = href.h3.a.text\n",
    "    uid = href.h3.a['href'].split('/')[-2]\n",
    "    try:\n",
    "        uid = int(uid)\n",
    "        url = get_url(uid)\n",
    "        print('get {}...'.format(url))\n",
    "        r = requests.get(url, allow_redirects=True)\n",
    "        open('{}.txt'.format(title), 'wb').write(r.content)\n",
    "    except Exception as e:\n",
    "        print('err:{}'.format(e))\n",
    "        print(href.h3.a['href'])\n"
   ]
  }
 ]
}