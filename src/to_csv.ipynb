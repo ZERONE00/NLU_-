{
 "metadata": {
  "language_info": {
   "codemirror_mode": {
    "name": "ipython",
    "version": 3
   },
   "file_extension": ".py",
   "mimetype": "text/x-python",
   "name": "python",
   "nbconvert_exporter": "python",
   "pygments_lexer": "ipython3",
   "version": "3.6.5-final"
  },
  "orig_nbformat": 2,
  "kernelspec": {
   "name": "python_defaultSpec_1596093279394",
   "display_name": "Python 3.6.5 64-bit ('cs231': conda)"
  }
 },
 "nbformat": 4,
 "nbformat_minor": 2,
 "cells": [
  {
   "cell_type": "code",
   "execution_count": 70,
   "metadata": {},
   "outputs": [],
   "source": [
    "import numpy as np\n",
    "import random\n",
    "import regex as re \n",
    "import os\n",
    "import pandas as pd"
   ]
  },
  {
   "cell_type": "code",
   "execution_count": 66,
   "metadata": {},
   "outputs": [],
   "source": [
    "def split_txt(path, low=200, high=500, ignore=20, strip=True):\n",
    "    # path指向的是txt文件，返回分割后的list，每个item为长度在[low, high]的文本\n",
    "    res, curr_txt, curr_limit = [], '', random.randint(low, high)\n",
    "    alpha = re.compile(r'[a-z]')\n",
    "    with open(path, 'r') as f:\n",
    "        for line in f.readlines()[ignore:]:\n",
    "            line = line.strip() if strip else line\n",
    "            if len(alpha.findall(line)) > 0:\n",
    "                continue\n",
    "            curr_txt += line\n",
    "            if len(curr_txt) > curr_limit:\n",
    "                res.append(curr_txt)\n",
    "                curr_txt, curr_limit = '', random.randint(low, high)\n",
    "    \n",
    "    return res\n",
    "\n",
    "def split_dir(dir='../data/original/', class_num=1):\n",
    "    # 获取某一类所有txt分割文件\n",
    "\n",
    "    dir_path = os.path.join(dir, str(class_num))\n",
    "    x, labels = [], []\n",
    "    for f in os.listdir(dir_path):\n",
    "        if f[-3:] != 'txt':\n",
    "            continue\n",
    "        path = os.path.join(dir_path, f)\n",
    "        x += split_txt(path)\n",
    "    labels = [(class_num-1)] * len(x)\n",
    "\n",
    "    return x, labels\n",
    "\n",
    "def to_csv(train_radio=0.8, test_radio=0.1, shuffle=False):\n",
    "    assert(train_radio + test_radio < 1)\n",
    "    train_x, test_x, valid_x = [], [], []\n",
    "    train_y, test_y, valid_y = [], [], []\n",
    "    for i in range(3):\n",
    "        x, y = split_dir(class_num=i+1)\n",
    "        if shuffle:\n",
    "            random.shuffle(x)\n",
    "        parti_1, parti_2 = int(len(x)*train_radio), int(len(x) * (train_radio+test_radio))\n",
    "        train_x, test_x, valid_x = train_x + x[:parti_1], test_x + x[parti_1:parti_2], valid_x + x[parti_2:]\n",
    "        train_y, test_y, valid_y = train_y + y[:parti_1], test_y + y[parti_1:parti_2], valid_y + y[parti_2:]\n",
    "    \n",
    "    train_df = pd.DataFrame(data={'txt':train_x, 'label':train_y})\n",
    "    test_df = pd.DataFrame(data={'txt':test_x, 'label':test_y})\n",
    "    valid_df = pd.DataFrame(data={'txt':valid_x, 'label':valid_y})\n",
    "\n",
    "    train_df.to_csv('../data/csv/train.csv', quoting=1, line_terminator=\"\\r\\n\")\n",
    "    test_df.to_csv('../data/csv/test.csv', quoting=1, line_terminator=\"\\r\\n\")\n",
    "    valid_df.to_csv('../data/csv/valid.csv', quoting=1, line_terminator=\"\\r\\n\")"
   ]
  },
  {
   "cell_type": "code",
   "execution_count": 67,
   "metadata": {},
   "outputs": [],
   "source": [
    "to_csv(0.8, 0.1)"
   ]
  },
  {
   "cell_type": "code",
   "execution_count": 68,
   "metadata": {},
   "outputs": [],
   "source": [
    "test = pd.read_csv('../data/csv/test.csv')"
   ]
  },
  {
   "cell_type": "code",
   "execution_count": 69,
   "metadata": {},
   "outputs": [
    {
     "output_type": "execute_result",
     "data": {
      "text/plain": "   Unnamed: 0                                                txt  label\n0           0  旁观众高手固觉惊异，任我行心下更是骇然。十余年前任我行左冷禅剧斗，未曾使用“ 吸星大法”，已...      0\n1           1  这一场拚斗，面子上似是未分胜败，但任左二人内心均知，自己的武功之中具有极大弱点，当日不输，实...      0\n2           2  便在心念电闪之际，噗的一声响，左冷禅的手指已戳中他左胸“天池穴”。旁观众人啊的一声，齐声呼叫...      0\n3           3  第二十七章　三战（5）向问天冷笑道：“岳先生能言善辩，令人好生佩服，只不过和‘君子’二字，未...      0\n4           4  任我行道：“冲虚道长在贵方是生力军，我们这一边也得出一个生力军才是。”抬头叫道：“令狐冲小兄...      0",
      "text/html": "<div>\n<style scoped>\n    .dataframe tbody tr th:only-of-type {\n        vertical-align: middle;\n    }\n\n    .dataframe tbody tr th {\n        vertical-align: top;\n    }\n\n    .dataframe thead th {\n        text-align: right;\n    }\n</style>\n<table border=\"1\" class=\"dataframe\">\n  <thead>\n    <tr style=\"text-align: right;\">\n      <th></th>\n      <th>Unnamed: 0</th>\n      <th>txt</th>\n      <th>label</th>\n    </tr>\n  </thead>\n  <tbody>\n    <tr>\n      <th>0</th>\n      <td>0</td>\n      <td>旁观众高手固觉惊异，任我行心下更是骇然。十余年前任我行左冷禅剧斗，未曾使用“ 吸星大法”，已...</td>\n      <td>0</td>\n    </tr>\n    <tr>\n      <th>1</th>\n      <td>1</td>\n      <td>这一场拚斗，面子上似是未分胜败，但任左二人内心均知，自己的武功之中具有极大弱点，当日不输，实...</td>\n      <td>0</td>\n    </tr>\n    <tr>\n      <th>2</th>\n      <td>2</td>\n      <td>便在心念电闪之际，噗的一声响，左冷禅的手指已戳中他左胸“天池穴”。旁观众人啊的一声，齐声呼叫...</td>\n      <td>0</td>\n    </tr>\n    <tr>\n      <th>3</th>\n      <td>3</td>\n      <td>第二十七章　三战（5）向问天冷笑道：“岳先生能言善辩，令人好生佩服，只不过和‘君子’二字，未...</td>\n      <td>0</td>\n    </tr>\n    <tr>\n      <th>4</th>\n      <td>4</td>\n      <td>任我行道：“冲虚道长在贵方是生力军，我们这一边也得出一个生力军才是。”抬头叫道：“令狐冲小兄...</td>\n      <td>0</td>\n    </tr>\n  </tbody>\n</table>\n</div>"
     },
     "metadata": {},
     "execution_count": 69
    }
   ],
   "source": [
    "test.head(5)"
   ]
  },
  {
   "cell_type": "code",
   "execution_count": null,
   "metadata": {},
   "outputs": [],
   "source": []
  }
 ]
}